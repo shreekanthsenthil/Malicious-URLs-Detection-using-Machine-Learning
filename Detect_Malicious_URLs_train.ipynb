{
  "nbformat": 4,
  "nbformat_minor": 0,
  "metadata": {
    "colab": {
      "name": "Detect Malicious URLs.ipynb",
      "provenance": [],
      "authorship_tag": "ABX9TyNvJYX7R/D8RKWdrTbVhlTA",
      "include_colab_link": true
    },
    "kernelspec": {
      "name": "python3",
      "display_name": "Python 3"
    }
  },
  "cells": [
    {
      "cell_type": "markdown",
      "metadata": {
        "id": "view-in-github",
        "colab_type": "text"
      },
      "source": [
        "<a href=\"https://colab.research.google.com/github/shreekanthsenthil/Malicious-URLs-Detection-using-Machine-Learning/blob/master/Detect_Malicious_URLs_train.ipynb\" target=\"_parent\"><img src=\"https://colab.research.google.com/assets/colab-badge.svg\" alt=\"Open In Colab\"/></a>"
      ]
    },
    {
      "cell_type": "code",
      "metadata": {
        "id": "Ppjltu4gnb5X",
        "colab_type": "code",
        "colab": {}
      },
      "source": [
        "import pandas as pd\n",
        "import numpy as np\n",
        "import matplotlib.pyplot as plt\n",
        "%matplotlib inline\n",
        "import os\n",
        "from PIL import Image\n",
        "import pathlib\n",
        "import csv\n",
        "from sklearn import preprocessing , neighbors ,svm\n",
        "from sklearn.preprocessing import LabelEncoder, StandardScaler\n",
        "from sklearn.model_selection import train_test_split\n",
        "import random\n",
        "from sklearn.feature_extraction.text import TfidfVectorizer\n",
        "import warnings\n",
        "warnings.filterwarnings('ignore')"
      ],
      "execution_count": 0,
      "outputs": []
    },
    {
      "cell_type": "code",
      "metadata": {
        "id": "HBs9nlE6qWJ2",
        "colab_type": "code",
        "colab": {
          "base_uri": "https://localhost:8080/",
          "height": 206
        },
        "outputId": "7b8ca894-3d68-43bf-915d-cf68d619a8c3"
      },
      "source": [
        "df = pd.read_csv('/content/data.csv')\n",
        "df.head()"
      ],
      "execution_count": 18,
      "outputs": [
        {
          "output_type": "execute_result",
          "data": {
            "text/html": [
              "<div>\n",
              "<style scoped>\n",
              "    .dataframe tbody tr th:only-of-type {\n",
              "        vertical-align: middle;\n",
              "    }\n",
              "\n",
              "    .dataframe tbody tr th {\n",
              "        vertical-align: top;\n",
              "    }\n",
              "\n",
              "    .dataframe thead th {\n",
              "        text-align: right;\n",
              "    }\n",
              "</style>\n",
              "<table border=\"1\" class=\"dataframe\">\n",
              "  <thead>\n",
              "    <tr style=\"text-align: right;\">\n",
              "      <th></th>\n",
              "      <th>url</th>\n",
              "      <th>label</th>\n",
              "    </tr>\n",
              "  </thead>\n",
              "  <tbody>\n",
              "    <tr>\n",
              "      <th>0</th>\n",
              "      <td>diaryofagameaddict.com</td>\n",
              "      <td>bad</td>\n",
              "    </tr>\n",
              "    <tr>\n",
              "      <th>1</th>\n",
              "      <td>espdesign.com.au</td>\n",
              "      <td>bad</td>\n",
              "    </tr>\n",
              "    <tr>\n",
              "      <th>2</th>\n",
              "      <td>iamagameaddict.com</td>\n",
              "      <td>bad</td>\n",
              "    </tr>\n",
              "    <tr>\n",
              "      <th>3</th>\n",
              "      <td>kalantzis.net</td>\n",
              "      <td>bad</td>\n",
              "    </tr>\n",
              "    <tr>\n",
              "      <th>4</th>\n",
              "      <td>slightlyoffcenter.net</td>\n",
              "      <td>bad</td>\n",
              "    </tr>\n",
              "  </tbody>\n",
              "</table>\n",
              "</div>"
            ],
            "text/plain": [
              "                      url label\n",
              "0  diaryofagameaddict.com   bad\n",
              "1        espdesign.com.au   bad\n",
              "2      iamagameaddict.com   bad\n",
              "3           kalantzis.net   bad\n",
              "4   slightlyoffcenter.net   bad"
            ]
          },
          "metadata": {
            "tags": []
          },
          "execution_count": 18
        }
      ]
    },
    {
      "cell_type": "code",
      "metadata": {
        "id": "DJSaBGWZqceQ",
        "colab_type": "code",
        "colab": {
          "base_uri": "https://localhost:8080/",
          "height": 72
        },
        "outputId": "5c14737a-0189-4fc8-bdae-0c63edc9e018"
      },
      "source": [
        "print('Total : ' , len(df))\n",
        "print('Good : ' , len(df[df['label'] == 'good']))\n",
        "print('Bad : ' , len(df[df['label'] == 'bad']))"
      ],
      "execution_count": 19,
      "outputs": [
        {
          "output_type": "stream",
          "text": [
            "Total :  420464\n",
            "Good :  344821\n",
            "Bad :  75643\n"
          ],
          "name": "stdout"
        }
      ]
    },
    {
      "cell_type": "code",
      "metadata": {
        "id": "3CU_WGBG3CZY",
        "colab_type": "code",
        "colab": {
          "base_uri": "https://localhost:8080/",
          "height": 35
        },
        "outputId": "3acd1d9c-c49d-470c-8576-f55f2754b52a"
      },
      "source": [
        "def encode_categorical(df, column_list):\n",
        "    for column in column_list:\n",
        "        df[column] = df[column].astype('str')\n",
        "        encoder = preprocessing.LabelEncoder()\n",
        "        encoded_list = encoder.fit_transform(df[column])\n",
        "#         print(encoded_list)\n",
        "#         print(len(encoded_list))\n",
        "        encoded_series = pd.Series(encoded_list)\n",
        "        df[column] = encoded_series\n",
        "        print(\"The \", column, \"is encoded \")\n",
        "    return(df)\n",
        "\n",
        "df = encode_categorical(df, ['label'])"
      ],
      "execution_count": 37,
      "outputs": [
        {
          "output_type": "stream",
          "text": [
            "The  label is encoded \n"
          ],
          "name": "stdout"
        }
      ]
    },
    {
      "cell_type": "code",
      "metadata": {
        "id": "2hOkCxWUzjYZ",
        "colab_type": "code",
        "colab": {
          "base_uri": "https://localhost:8080/",
          "height": 164
        },
        "outputId": "c8974316-47fa-45a8-81b6-084b717f2192"
      },
      "source": [
        "df1 = np.array(df)\n",
        "random.shuffle(df1)\n",
        "print(df1)"
      ],
      "execution_count": 38,
      "outputs": [
        {
          "output_type": "stream",
          "text": [
            "[['diaryofagameaddict.com' 0]\n",
            " ['diaryofagameaddict.com' 0]\n",
            " ['diaryofagameaddict.com' 0]\n",
            " ...\n",
            " ['hjartholm.no/blog/wp-includes/js/bookmark/' 0]\n",
            " ['sportsdelve.wordpress.com/2011/01/17/exhibition-games-in-non-nfl-cities/'\n",
            "  1]\n",
            " ['chadkinder.com/results.html' 1]]\n"
          ],
          "name": "stdout"
        }
      ]
    },
    {
      "cell_type": "code",
      "metadata": {
        "id": "b5WVNJZA0E-x",
        "colab_type": "code",
        "colab": {}
      },
      "source": [
        "y = [d[1] for d in df1]\n",
        "url = [d[0] for d in df1]\n",
        "vectorizer = TfidfVectorizer()\n",
        "X = vectorizer.fit_transform(url)"
      ],
      "execution_count": 0,
      "outputs": []
    },
    {
      "cell_type": "code",
      "metadata": {
        "id": "L9MtHvir2FkA",
        "colab_type": "code",
        "colab": {
          "base_uri": "https://localhost:8080/",
          "height": 54
        },
        "outputId": "d85c4b0c-b94c-44fc-fe23-86df80bad710"
      },
      "source": [
        "print(X[0])"
      ],
      "execution_count": 40,
      "outputs": [
        {
          "output_type": "stream",
          "text": [
            "  (0, 89296)\t0.11950981475087588\n",
            "  (0, 99428)\t0.9928330192828053\n"
          ],
          "name": "stdout"
        }
      ]
    },
    {
      "cell_type": "code",
      "metadata": {
        "id": "MoBWrWrr2HWS",
        "colab_type": "code",
        "colab": {}
      },
      "source": [
        "x_train,x_test,y_train,y_test=train_test_split(X, y, test_size=0.2,shuffle=True,stratify=y)"
      ],
      "execution_count": 0,
      "outputs": []
    },
    {
      "cell_type": "code",
      "metadata": {
        "id": "fJpxhyqr2qzE",
        "colab_type": "code",
        "colab": {}
      },
      "source": [
        ""
      ],
      "execution_count": 0,
      "outputs": []
    }
  ]
}