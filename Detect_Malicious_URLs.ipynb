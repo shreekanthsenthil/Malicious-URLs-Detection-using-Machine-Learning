{
  "nbformat": 4,
  "nbformat_minor": 0,
  "metadata": {
    "colab": {
      "name": "Detect Malicious URLs.ipynb",
      "provenance": [],
      "machine_shape": "hm",
      "authorship_tag": "ABX9TyPnIT3+CL07sIFuGgljygKG",
      "include_colab_link": true
    },
    "kernelspec": {
      "name": "python3",
      "display_name": "Python 3"
    }
  },
  "cells": [
    {
      "cell_type": "markdown",
      "metadata": {
        "id": "view-in-github",
        "colab_type": "text"
      },
      "source": [
        "<a href=\"https://colab.research.google.com/github/shreekanthsenthil/Malicious-URLs-Detection-using-Machine-Learning/blob/master/Detect_Malicious_URLs.ipynb\" target=\"_parent\"><img src=\"https://colab.research.google.com/assets/colab-badge.svg\" alt=\"Open In Colab\"/></a>"
      ]
    },
    {
      "cell_type": "code",
      "metadata": {
        "id": "Ppjltu4gnb5X",
        "colab_type": "code",
        "colab": {}
      },
      "source": [
        "import pandas as pd\n",
        "import numpy as np\n",
        "import csv\n",
        "from sklearn import preprocessing\n",
        "from sklearn.preprocessing import LabelEncoder\n",
        "from sklearn.model_selection import train_test_split\n",
        "from sklearn.metrics import confusion_matrix, accuracy_score, classification_report\n",
        "import random\n",
        "from sklearn.feature_extraction.text import TfidfVectorizer\n",
        "import pickle\n",
        "import warnings\n",
        "warnings.filterwarnings('ignore')"
      ],
      "execution_count": 0,
      "outputs": []
    },
    {
      "cell_type": "code",
      "metadata": {
        "id": "HBs9nlE6qWJ2",
        "colab_type": "code",
        "colab": {
          "base_uri": "https://localhost:8080/",
          "height": 206
        },
        "outputId": "3d711fad-4e41-48a0-94c8-06b001736b5e"
      },
      "source": [
        "df = pd.read_csv('/content/data.csv')\n",
        "df.head()"
      ],
      "execution_count": 2,
      "outputs": [
        {
          "output_type": "execute_result",
          "data": {
            "text/html": [
              "<div>\n",
              "<style scoped>\n",
              "    .dataframe tbody tr th:only-of-type {\n",
              "        vertical-align: middle;\n",
              "    }\n",
              "\n",
              "    .dataframe tbody tr th {\n",
              "        vertical-align: top;\n",
              "    }\n",
              "\n",
              "    .dataframe thead th {\n",
              "        text-align: right;\n",
              "    }\n",
              "</style>\n",
              "<table border=\"1\" class=\"dataframe\">\n",
              "  <thead>\n",
              "    <tr style=\"text-align: right;\">\n",
              "      <th></th>\n",
              "      <th>url</th>\n",
              "      <th>label</th>\n",
              "    </tr>\n",
              "  </thead>\n",
              "  <tbody>\n",
              "    <tr>\n",
              "      <th>0</th>\n",
              "      <td>diaryofagameaddict.com</td>\n",
              "      <td>bad</td>\n",
              "    </tr>\n",
              "    <tr>\n",
              "      <th>1</th>\n",
              "      <td>espdesign.com.au</td>\n",
              "      <td>bad</td>\n",
              "    </tr>\n",
              "    <tr>\n",
              "      <th>2</th>\n",
              "      <td>iamagameaddict.com</td>\n",
              "      <td>bad</td>\n",
              "    </tr>\n",
              "    <tr>\n",
              "      <th>3</th>\n",
              "      <td>kalantzis.net</td>\n",
              "      <td>bad</td>\n",
              "    </tr>\n",
              "    <tr>\n",
              "      <th>4</th>\n",
              "      <td>slightlyoffcenter.net</td>\n",
              "      <td>bad</td>\n",
              "    </tr>\n",
              "  </tbody>\n",
              "</table>\n",
              "</div>"
            ],
            "text/plain": [
              "                      url label\n",
              "0  diaryofagameaddict.com   bad\n",
              "1        espdesign.com.au   bad\n",
              "2      iamagameaddict.com   bad\n",
              "3           kalantzis.net   bad\n",
              "4   slightlyoffcenter.net   bad"
            ]
          },
          "metadata": {
            "tags": []
          },
          "execution_count": 2
        }
      ]
    },
    {
      "cell_type": "code",
      "metadata": {
        "id": "DJSaBGWZqceQ",
        "colab_type": "code",
        "colab": {
          "base_uri": "https://localhost:8080/",
          "height": 164
        },
        "outputId": "218ddc35-fe74-427c-a643-1f57a6872a19"
      },
      "source": [
        "print('Before Removing Duplicates')\n",
        "print('Total : ' , len(df))\n",
        "print('Good : ' , len(df[df['label'] == 'good']))\n",
        "print('Bad : ' , len(df[df['label'] == 'bad']))\n",
        "df.drop_duplicates(subset='url',keep=False,inplace=True)\n",
        "print('After Removing Duplicates')\n",
        "df.reset_index(drop=True,inplace=True)\n",
        "print('Total : ' , len(df))\n",
        "print('Good : ' , len(df[df['label'] == 'good']))\n",
        "print('Bad : ' , len(df[df['label'] == 'bad']))"
      ],
      "execution_count": 3,
      "outputs": [
        {
          "output_type": "stream",
          "text": [
            "Before Removing Duplicates\n",
            "Total :  420464\n",
            "Good :  344821\n",
            "Bad :  75643\n",
            "After Removing Duplicates\n",
            "Total :  403155\n",
            "Good :  344778\n",
            "Bad :  58377\n"
          ],
          "name": "stdout"
        }
      ]
    },
    {
      "cell_type": "code",
      "metadata": {
        "id": "3CU_WGBG3CZY",
        "colab_type": "code",
        "colab": {
          "base_uri": "https://localhost:8080/",
          "height": 35
        },
        "outputId": "7a9c1edc-649e-4673-f2e5-3957d8eb4016"
      },
      "source": [
        "def encode_categorical(df, column_list):\n",
        "    for column in column_list:\n",
        "        df[column] = df[column].astype('str')\n",
        "        encoder = preprocessing.LabelEncoder()\n",
        "        encoded_list = encoder.fit_transform(df[column])\n",
        "        encoded_series = pd.Series(encoded_list)\n",
        "        df[column] = encoded_series\n",
        "        print(\"The \", column, \"is encoded \")\n",
        "    return(df)\n",
        "\n",
        "df = encode_categorical(df, ['label'])\n"
      ],
      "execution_count": 4,
      "outputs": [
        {
          "output_type": "stream",
          "text": [
            "The  label is encoded \n"
          ],
          "name": "stdout"
        }
      ]
    },
    {
      "cell_type": "code",
      "metadata": {
        "id": "2hOkCxWUzjYZ",
        "colab_type": "code",
        "colab": {
          "base_uri": "https://localhost:8080/",
          "height": 146
        },
        "outputId": "065d9e0a-7cca-4f4d-85fe-49533992772f"
      },
      "source": [
        "df1 = np.array(df)\n",
        "random.shuffle(df1)\n",
        "print(df1)"
      ],
      "execution_count": 5,
      "outputs": [
        {
          "output_type": "stream",
          "text": [
            "[['diaryofagameaddict.com' 0]\n",
            " ['espdesign.com.au' 0]\n",
            " ['iamagameaddict.com' 0]\n",
            " ...\n",
            " ['truthaboutscientology.com/stats/by-name/d/david-van-den-berg.html' 1]\n",
            " ['website-tools.net/google-keyword/word/catherine+faylen' 1]\n",
            " ['vmeste-hudeem.ru/yr387n3' 0]]\n"
          ],
          "name": "stdout"
        }
      ]
    },
    {
      "cell_type": "code",
      "metadata": {
        "id": "b5WVNJZA0E-x",
        "colab_type": "code",
        "colab": {}
      },
      "source": [
        "y = [d[1] for d in df1]\n",
        "url = [d[0] for d in df1]\n",
        "vectorizer = TfidfVectorizer()\n",
        "X = vectorizer.fit_transform(url)"
      ],
      "execution_count": 0,
      "outputs": []
    },
    {
      "cell_type": "code",
      "metadata": {
        "id": "L9MtHvir2FkA",
        "colab_type": "code",
        "colab": {
          "base_uri": "https://localhost:8080/",
          "height": 54
        },
        "outputId": "8bc9869d-4924-4bb4-e212-a288451d3fc9"
      },
      "source": [
        "print(X[0])"
      ],
      "execution_count": 7,
      "outputs": [
        {
          "output_type": "stream",
          "text": [
            "  (0, 88809)\t0.11771921948862656\n",
            "  (0, 98787)\t0.9930469200208963\n"
          ],
          "name": "stdout"
        }
      ]
    },
    {
      "cell_type": "code",
      "metadata": {
        "id": "MoBWrWrr2HWS",
        "colab_type": "code",
        "colab": {}
      },
      "source": [
        "x_train,x_test,y_train,y_test=train_test_split(X, y, test_size=0.2,shuffle=True,stratify=y)"
      ],
      "execution_count": 0,
      "outputs": []
    },
    {
      "cell_type": "code",
      "metadata": {
        "id": "M44p0W6U3vAr",
        "colab_type": "code",
        "colab": {
          "base_uri": "https://localhost:8080/",
          "height": 35
        },
        "outputId": "b68c3b12-6977-476c-f357-f879d81265bd"
      },
      "source": [
        "from sklearn.linear_model import LogisticRegression\n",
        "LR = LogisticRegression(random_state=0).fit(x_train, y_train)\n",
        "accuracy = LR.score(x_test, y_test)\n",
        "print('Accuracy : ' ,accuracy)"
      ],
      "execution_count": 9,
      "outputs": [
        {
          "output_type": "stream",
          "text": [
            "Accuracy :  0.9827857771824733\n"
          ],
          "name": "stdout"
        }
      ]
    },
    {
      "cell_type": "code",
      "metadata": {
        "id": "8xNAgQNE9pqR",
        "colab_type": "code",
        "colab": {
          "base_uri": "https://localhost:8080/",
          "height": 219
        },
        "outputId": "91972f5e-3895-4fdd-b018-1160383a0500"
      },
      "source": [
        "predict = LR.predict(x_test)\n",
        "conf_mat = confusion_matrix(y_test, predict)\n",
        "print(conf_mat)\n",
        "print(classification_report(y_test, predict)) "
      ],
      "execution_count": 10,
      "outputs": [
        {
          "output_type": "stream",
          "text": [
            "[[21369  1147]\n",
            " [  241 57874]]\n",
            "              precision    recall  f1-score   support\n",
            "\n",
            "           0       0.99      0.95      0.97     22516\n",
            "           1       0.98      1.00      0.99     58115\n",
            "\n",
            "    accuracy                           0.98     80631\n",
            "   macro avg       0.98      0.97      0.98     80631\n",
            "weighted avg       0.98      0.98      0.98     80631\n",
            "\n"
          ],
          "name": "stdout"
        }
      ]
    },
    {
      "cell_type": "markdown",
      "metadata": {
        "id": "b4QEI45VIilw",
        "colab_type": "text"
      },
      "source": [
        ".  | Bad Predicted | Good Predicted\n",
        "--- | --- | ---\n",
        "Bad Actual | 21369 | 1147\n",
        "Good Actual | 241 | 57874"
      ]
    },
    {
      "cell_type": "code",
      "metadata": {
        "id": "miqvQYLPLQB-",
        "colab_type": "code",
        "colab": {}
      },
      "source": [
        "pickle.dump(LR, open(\"LR_saved_model.pickle\", \"wb\"))\n",
        "pickle.dump(vectorizer, open(\"tfidf.pickle\", \"wb\"))"
      ],
      "execution_count": 0,
      "outputs": []
    }
  ]
}